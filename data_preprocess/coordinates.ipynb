{
 "cells": [
  {
   "cell_type": "markdown",
   "id": "7bc768be",
   "metadata": {},
   "source": [
    "# Génération de Coordonnées 3D à partir de SMILES\n",
    "\n",
    "Ce notebook lit des chaînes SMILES et des propriétés associées (PCE) à partir d'un fichier CSV, génère les coordonnées 3D pour chaque molécule en utilisant RDKit, et sauvegarde les coordonnées ainsi que la valeur de la propriété dans un fichier texte dans un format spécifique."
   ]
  },
  {
   "cell_type": "markdown",
   "id": "d44995e4",
   "metadata": {},
   "source": [
    "## Importation des Bibliothèques\n",
    "\n",
    "Importation des bibliothèques nécessaires :\n",
    "- `rdkit` : Pour les tâches de chémoinformatique comme l'analyse des SMILES et la génération de coordonnées 3D.\n",
    "- `numpy` et `pandas` : Pour les opérations numériques et la manipulation de données (lecture de CSV).\n",
    "- `sys`, `os` : Pour les opérations au niveau du système comme la gestion des chemins de fichiers.\n",
    "- `argparse` : Pour gérer les arguments de ligne de commande lors de l'exécution en tant que script."
   ]
  },
  {
   "cell_type": "code",
   "execution_count": 2,
   "id": "5ad9db1a",
   "metadata": {},
   "outputs": [],
   "source": [
    "from rdkit import Chem\n",
    "from rdkit.Chem import AllChem\n",
    "from rdkit.Chem import Draw\n",
    "import numpy as np\n",
    "import pandas as pd\n",
    "import sys\n",
    "import os\n",
    "import argparse"
   ]
  },
  {
   "cell_type": "markdown",
   "id": "1f185f24",
   "metadata": {},
   "source": [
    "## Fonction `generate_coordinates`\n",
    "\n",
    "Cette fonction prend le chemin du fichier CSV d'entrée et le chemin du fichier texte de sortie comme arguments et effectue les étapes suivantes :\n",
    "1.  **Vérification du Fichier :** Vérifie si le fichier CSV d'entrée existe.\n",
    "2.  **Chargement des Données :** Lit les chaînes SMILES et les valeurs de propriété des colonnes spécifiées ('SMILES', 'PCE') dans le fichier CSV en utilisant pandas. \n",
    "3.  **Gestion du Fichier de Sortie :** Ouvre le fichier de sortie spécifié en mode écriture.\n",
    "4.  **Boucle de Traitement des Molécules :** Itère sur chaque chaîne SMILES :\n",
    "    *   **SMILES vers Molécule :** Convertit la chaîne SMILES en un objet molécule RDKit (`Chem.MolFromSmiles`). Gère les erreurs si la conversion échoue.\n",
    "    *   **Intégration 3D :**\n",
    "        *   Tente de générer un conformère 3D en utilisant l'algorithme ETKDGv3 (`AllChem.EmbedMolecule`).\n",
    "        *   Si ETKDGv3 échoue (retourne -1), il essaie l'intégration avec des coordonnées aléatoires et optimise la géométrie en utilisant le champ de force MMFF (`AllChem.MMFFOptimizeMolecule`).\n",
    "    *   **Extraction des Coordonnées :** Récupère le conformère 3D généré.\n",
    "    *   **Formatage de la Sortie :** Écrit les données dans le fichier de sortie au format souhaité :\n",
    "        *   Une ligne d'identifiant unique (par exemple, `pce_0`).\n",
    "        *   Le nombre d'atomes.\n",
    "        *   Des lignes pour chaque atome : `SymboleAtome X Y Z`.\n",
    "        *   La valeur de la propriété correspondante.\n",
    "        *   Deux lignes vides comme séparateur avant la molécule suivante.\n",
    "    *   **Gestion des Erreurs :** Capture les exceptions lors du traitement d'une seule molécule et affiche un message d'erreur, permettant au script de continuer avec la molécule suivante.\n",
    "5.  **Fermeture du Fichier :** Ferme le fichier de sortie.\n",
    "6.  **Message de Fin :** Affiche un message indiquant que le fichier de sortie a été généré."
   ]
  },
  {
   "cell_type": "code",
   "execution_count": null,
   "id": "936bd7f7",
   "metadata": {},
   "outputs": [
    {
     "name": "stdout",
     "output_type": "stream",
     "text": [
      "Processing molecule 1...\n",
      "Processing molecule 2...\n",
      "Fichier généré : ../datasets/data_test/demo/demo_m3d.txt\n"
     ]
    },
    {
     "name": "stderr",
     "output_type": "stream",
     "text": [
      "[10:37:21] Molecule does not have explicit Hs. Consider calling AddHs()\n",
      "[10:37:21] Molecule does not have explicit Hs. Consider calling AddHs()\n"
     ]
    }
   ],
   "source": [
    "def generate_coordinates(filepath, output_file):\n",
    "    \n",
    "    if not os.path.exists(filepath):\n",
    "        raise FileNotFoundError(f\"Le fichier {filepath} n'existe pas.\")\n",
    "\n",
    "    df = pd.read_csv(file_path)\n",
    "    smiles_list = df[\"SMILES\"].tolist()[:2] # Limiter à 2 molécules pour la démo mais on peut l'élargir si le gpu est plus puissant\n",
    "    \n",
    "    try:\n",
    "        property = df[\"PCE\"].tolist()[:2]\n",
    "    except KeyError:\n",
    "        property = \"\"\n",
    "    \n",
    "    file = open(output_file, \"w\", encoding=\"utf-8\")\n",
    "    \n",
    "    for ind, smiles in enumerate(smiles_list):\n",
    "        print(f\"Processing molecule {ind + 1}...\")\n",
    "        \n",
    "        try:\n",
    "            mol = Chem.MolFromSmiles(smiles)\n",
    "            \n",
    "            if mol is None:\n",
    "                print(f\"Erreur : Impossible de convertir SMILES index {ind}\")\n",
    "                continue\n",
    "        \n",
    "            m3d = mol\n",
    "            params = AllChem.ETKDGv3()\n",
    "            E = AllChem.EmbedMolecule(m3d, params=params)\n",
    "        \n",
    "            if E == -1:\n",
    "                    E = AllChem.EmbedMolecule(m3d, useRandomCoords=True, ignoreSmoothingFailures=True)\n",
    "                    AllChem.MMFFOptimizeMolecule(m3d, maxIters=10000)\n",
    "            \n",
    "            \n",
    "            conformer = m3d.GetConformer()\n",
    "            file.write('pce_'+ str(ind)+'\\n')\n",
    "            # Écriture des résultats dans le fichier\n",
    "            for i in range(m3d.GetNumAtoms()):\n",
    "                pos = conformer.GetAtomPosition(i)\n",
    "                atom_symbol = m3d.GetAtomWithIdx(i).GetSymbol()\n",
    "                file.write(f\"{atom_symbol}    {pos.x:.6f}    {pos.y:.6f}     {pos.z:.6f}\\n\")\n",
    "            if property == \"\":\n",
    "                file.write(f\"\")\n",
    "            else :\n",
    "                file.write(f\"{property[ind]}\\n\")\n",
    "            file.write(\"\\n\\n\")\n",
    "            \n",
    "        except Exception as e:\n",
    "                print(f\"Erreur lors du traitement de {smiles} : {e}\")\n",
    "                continue\n",
    "    file.close()\n",
    "    print(f\"Fichier généré : {output_file}\")\n",
    "    \n",
    "\n",
    "# file_path = r\"../datasets/PM/train/train_file.csv\"\n",
    "# output_file = r\"../datasets/PM/train/train_m3d.txt\"\n",
    "# generate_coordinates(file_path, output_file)\n",
    "\n",
    "# file_path = r\"../datasets/PM/val/val_file.csv\"\n",
    "# output_file = r\"../datasets/PM/val/val_m3d.txt\"\n",
    "# generate_coordinates(file_path, output_file)\n",
    "\n",
    "# file_path = r\"../datasets/PM/test/test_file.csv\"\n",
    "# output_file = r\"../datasets/PM/test/test_m3d.txt\"\n",
    "# generate_coordinates(file_path, output_file)\n",
    "\n",
    "file_path = r\"../datasets/data_test/demo.csv\"\n",
    "output_file = r\"../datasets/data_test/demo/demo_m3d.txt\"\n",
    "generate_coordinates(file_path, output_file)"
   ]
  },
  {
   "cell_type": "markdown",
   "id": "9a4d2172",
   "metadata": {},
   "source": [
    "## Bloc d'Exécution Principal (apres l'ecriture de la fonction generate_coordinates)\n",
    "\n",
    "Ce bloc définit comment le script se comporte lorsqu'il est exécuté directement lorsqu'on lui passe des chemins en entrée.\n",
    "- `file_path` : Le chemin vers le fichier CSV d'entrée (requis).\n",
    "-  `output_file` : Le chemin pour le fichier texte de sortie (requis)."
   ]
  }
 ],
 "metadata": {
  "kernelspec": {
   "display_name": "gpu_test",
   "language": "python",
   "name": "python3"
  },
  "language_info": {
   "codemirror_mode": {
    "name": "ipython",
    "version": 3
   },
   "file_extension": ".py",
   "mimetype": "text/x-python",
   "name": "python",
   "nbconvert_exporter": "python",
   "pygments_lexer": "ipython3",
   "version": "3.9.18"
  }
 },
 "nbformat": 4,
 "nbformat_minor": 5
}
